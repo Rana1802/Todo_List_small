{
 "cells": [
  {
   "cell_type": "code",
   "execution_count": 1,
   "metadata": {},
   "outputs": [],
   "source": [
    "import json\n",
    "import os \n",
    "\n",
    "def load_task() :\n",
    "    if not os.path.exists('tasks.json'):\n",
    "        return []\n",
    "    \n",
    "    with open(\"tasks.json\", \"r\") as f:\n",
    "        try:\n",
    "            tasks = json.load(f)\n",
    "            return tasks\n",
    "        except json.JSONDecodeError:\n",
    "            return []"
   ]
  },
  {
   "cell_type": "code",
   "execution_count": 2,
   "metadata": {},
   "outputs": [],
   "source": [
    "def save_tasks(tasks):\n",
    "    with open(\"tasks.json\", \"w\") as f:\n",
    "        json.dump(tasks, f, indent=4)\n",
    "\n",
    "\n"
   ]
  },
  {
   "cell_type": "code",
   "execution_count": 3,
   "metadata": {},
   "outputs": [],
   "source": [
    "\n",
    "def add_task(tasks):\n",
    "    text_task = input(\"Please Enter your todo task : \")\n",
    "    tasks.append({'task': text_task, \"done\": False})\n",
    "    save_tasks(tasks)\n",
    "    return tasks"
   ]
  },
  {
   "cell_type": "code",
   "execution_count": 4,
   "metadata": {},
   "outputs": [],
   "source": [
    "def view_task(tasks):\n",
    "    if not tasks:\n",
    "        print(\"No tasks yet!!\")\n",
    "        return\n",
    "    print(\"<<<< Your..Tasks..are >>>>\")\n",
    "    for ind, task in enumerate(tasks, start= 1):\n",
    "        if task['done'] :\n",
    "            status = '[x]'\n",
    "        else :\n",
    "            status = \"[ ]\"\n",
    "        print(f\"{ind}. {status} {task['task']}\")"
   ]
  },
  {
   "cell_type": "code",
   "execution_count": 5,
   "metadata": {},
   "outputs": [],
   "source": [
    "def delete_task(tasks):\n",
    "   # view_task(tasks)\n",
    "    \n",
    "    try:\n",
    "        index = int(input(\"Enter the Sl. No. of the task you want to delete it : \"))\n",
    "        index = index - 1\n",
    "        if index >= 0 and index < len(tasks):\n",
    "            remove = tasks.pop(index)\n",
    "            save_tasks(tasks)\n",
    "            print(f\"Deleted task : {remove['task']}\")\n",
    "        else :\n",
    "            print(\"Please give the valid Sl. No.\")\n",
    "    except Exception as ex:\n",
    "        print(ex)\n"
   ]
  },
  {
   "cell_type": "code",
   "execution_count": 6,
   "metadata": {},
   "outputs": [],
   "source": [
    "def mark_task(tasks):\n",
    "    #view_task(tasks)\n",
    "\n",
    "    try :\n",
    "        index = int(input(\"Enter the Sl. No. you want to mark it down as 'done' : \"))\n",
    "        index = index - 1\n",
    "        if index >= 0 and index < len(tasks):\n",
    "            tasks[index]['done'] = True\n",
    "            save_tasks(tasks)\n",
    "            print(\"Task marked as done \")\n",
    "            \n",
    "        else :\n",
    "            print(\"Invalid Sl. No. !\")\n",
    "\n",
    "    except ValueError :\n",
    "        print(\"Please enter valid number ....\")"
   ]
  },
  {
   "cell_type": "code",
   "execution_count": 7,
   "metadata": {},
   "outputs": [
    {
     "name": "stdout",
     "output_type": "stream",
     "text": [
      "Your TODO list options are shown below \n",
      "1. View Task\n",
      "2. Add Task\n",
      "3. Mark task\n",
      "4. Delete Task\n",
      "5. Save & Exit\n",
      "\n",
      "<<<< Your..Tasks..are >>>>\n",
      "1. [x] Learn Python\n",
      "2. [ ] Watching Football\n",
      "Your TODO list options are shown below \n",
      "1. View Task\n",
      "2. Add Task\n",
      "3. Mark task\n",
      "4. Delete Task\n",
      "5. Save & Exit\n",
      "\n",
      "Invalid Sl. No. !\n",
      "Your TODO list options are shown below \n",
      "1. View Task\n",
      "2. Add Task\n",
      "3. Mark task\n",
      "4. Delete Task\n",
      "5. Save & Exit\n",
      "Please enter a number (1 to 5) only!\n",
      "\n",
      "Your TODO list options are shown below \n",
      "1. View Task\n",
      "2. Add Task\n",
      "3. Mark task\n",
      "4. Delete Task\n",
      "5. Save & Exit\n",
      "\n",
      "Your task is saved..\n"
     ]
    }
   ],
   "source": [
    "def main():\n",
    "    tasks = load_task()\n",
    "    while True:\n",
    "        print(\"Your TODO list options are shown below \")\n",
    "        print(\"1. View Task\")\n",
    "        print(\"2. Add Task\")\n",
    "        print(\"3. Mark task\")\n",
    "        print(\"4. Delete Task\")\n",
    "        print(\"5. Save & Exit\")\n",
    "\n",
    "        try:\n",
    "            indexx = int(input(\"Enter a valid number to choose the operation (1-5): \"))\n",
    "        except ValueError:\n",
    "            print(\"Please enter a number (1 to 5) only!\\n\")\n",
    "            continue\n",
    "        print()\n",
    "\n",
    "        if indexx == 1:\n",
    "            view_task(tasks)\n",
    "        elif indexx == 2:\n",
    "            add_task(tasks)\n",
    "        elif indexx == 3:\n",
    "            mark_task(tasks)\n",
    "        elif indexx == 4:\n",
    "            delete_task(tasks)\n",
    "        elif indexx == 5 :\n",
    "            save_tasks(tasks)\n",
    "            print(\"Your task is saved..\")\n",
    "            break\n",
    "        else : \n",
    "            print(\"Invalid chosen number ..\")\n",
    "            continue\n",
    "\n",
    "\n",
    "if __name__ ==\"__main__\":\n",
    "    main()\n"
   ]
  },
  {
   "cell_type": "code",
   "execution_count": null,
   "metadata": {},
   "outputs": [],
   "source": []
  },
  {
   "cell_type": "code",
   "execution_count": null,
   "metadata": {},
   "outputs": [],
   "source": []
  }
 ],
 "metadata": {
  "kernelspec": {
   "display_name": "Python 3",
   "language": "python",
   "name": "python3"
  },
  "language_info": {
   "codemirror_mode": {
    "name": "ipython",
    "version": 3
   },
   "file_extension": ".py",
   "mimetype": "text/x-python",
   "name": "python",
   "nbconvert_exporter": "python",
   "pygments_lexer": "ipython3",
   "version": "3.12.0"
  }
 },
 "nbformat": 4,
 "nbformat_minor": 2
}
