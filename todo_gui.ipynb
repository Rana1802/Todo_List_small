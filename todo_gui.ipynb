{
 "cells": [
  {
   "cell_type": "code",
   "execution_count": 36,
   "metadata": {},
   "outputs": [],
   "source": [
    "import tkinter as tk\n",
    "import json\n",
    "import os\n",
    "\n",
    "tasks = []\n",
    "name = \"tasks_gui.json\" ## file name set as this , so in this file the tasks will be updated, saved and deleted \n",
    "\n",
    "root = tk.Tk()\n",
    "root.title(\"To-Do List GUI\") # My Todo list GUI name \n",
    "root.geometry(\"400x500\") #app window size \n",
    "\n",
    "heading = tk.Label(root, text=\"To-Do List\", font=(\"TimesNewRoman\", 18))\n",
    "heading.pack(pady=5)\n",
    "\n",
    "input_frame = tk.Frame(root)\n",
    "input_frame.pack(pady=5)\n",
    "\n",
    "task_entry = tk.Entry(input_frame, font=(\"Arial\", 12), width=20 ) ##v It is the enetry point of the task where I have to add a new task e.g. Learning Python\n",
    "task_entry.pack(pady=5)\n",
    "\n",
    "task_listbox = tk.Listbox(root, font=(\"TimesNewRoman\", 12), height=15)\n",
    "task_listbox.pack(padx=10, pady=10, fill=tk.BOTH, expand=True)\n",
    "\n",
    "\n",
    "# tasks are loaded to the json file\n",
    "def load_tasks():\n",
    "    if os.path.exists(name):\n",
    "        with open(name, \"r\") as f:\n",
    "            try:\n",
    "                return json.load(f)\n",
    "            except:\n",
    "                return []\n",
    "    return []\n",
    "# tasks are saved \n",
    "def save_tasks():\n",
    "    with open(name, \"w\") as f:\n",
    "        json.dump(tasks, f, indent=4)\n",
    "\n",
    "# this sectio saves file after closing the gui. When reopened the loaded tasks will be same as before \n",
    "tasks = load_tasks()\n",
    "for task in tasks:\n",
    "    if task[\"done\"] :\n",
    "        display = \"✔ \" + task[\"task\"]\n",
    "    else :\n",
    "        display = \"🔲 \" + task[\"task\"]\n",
    "    task_listbox.insert(tk.END, display)\n"
   ]
  },
  {
   "cell_type": "code",
   "execution_count": null,
   "metadata": {},
   "outputs": [],
   "source": [
    "\n",
    "\n"
   ]
  },
  {
   "cell_type": "code",
   "execution_count": 37,
   "metadata": {},
   "outputs": [],
   "source": [
    "\n",
    "def add_task():\n",
    "    task = task_entry.get()\n",
    "    if task:\n",
    "        tasks.append({'task': task, 'done': False}) # new task is appended in tasks_gui.json\n",
    "        task_listbox.insert(tk.END, \"🔲 \" + task) ## basically the new task is added with check box in the first \n",
    "        task_entry.delete(0, tk.END)\n",
    "        save_tasks() ## tasks is saved immediately in the json file \n",
    "\n",
    "def mark_done():\n",
    "    selected = task_listbox.curselection()  # Get selected task\n",
    "    if selected:\n",
    "        index = selected[0]\n",
    "        task_item = tasks[index]\n",
    "        task_item['done'] = not task_item['done'] # tasks is done by clicking the ch|eckbox\n",
    "        if task_item['done'] : ## if done, mark the tick sign else go with the blank checkbox\n",
    "            display_text = \"✔ \" + task_item['task']\n",
    "        else :\n",
    "           display_text = \"🔲 \" + task_item['task']\n",
    "        task_listbox.delete(index)\n",
    "        task_listbox.insert(index, display_text)\n",
    "        save_tasks()\n",
    "\n",
    "def delete_task():\n",
    "    selected = task_listbox.curselection() ## Get selected task\n",
    "    if selected:\n",
    "        index = selected[0]\n",
    "        tasks.pop(index) ## the task is popped from the tasks i.e. deleted\n",
    "        task_listbox.delete(index)\n",
    "        save_tasks()\n",
    " ## always saves the task after every action so it will help us to keep updated \n",
    "\n",
    "\n"
   ]
  },
  {
   "cell_type": "code",
   "execution_count": 39,
   "metadata": {},
   "outputs": [],
   "source": [
    "## in this section I have added 3 buttons 1.Add Task, 2. Mark as Done 3. Delete Task\n",
    "add_button = tk.Button(input_frame, text=\"Add Task\", command=add_task, background=\"#00FFFF\", foreground=\"#000000\", borderwidth=2, cursor=\"hand2\")\n",
    "add_button.pack(pady=5, padx= 10)\n",
    "\n",
    "\n",
    "mark_button = tk.Button(root, text=\" ✔ Mark as Done\", command=mark_done,  background=\"#E6E6FA\", foreground=\"#000000\", borderwidth=2, cursor=\"hand2\")\n",
    "mark_button.pack(pady=5,  padx= 10)\n",
    "\n",
    "delete_button = tk.Button(root, text=\" Delete Task\", command=delete_task,  background=\"#FF7F50\", foreground=\"#000000\", borderwidth=2, cursor=\"hand2\")\n",
    "delete_button.pack(pady=5)\n",
    "\n",
    "\n",
    "root.mainloop()\n"
   ]
  },
  {
   "cell_type": "code",
   "execution_count": null,
   "metadata": {},
   "outputs": [],
   "source": []
  }
 ],
 "metadata": {
  "kernelspec": {
   "display_name": "Python 3",
   "language": "python",
   "name": "python3"
  },
  "language_info": {
   "codemirror_mode": {
    "name": "ipython",
    "version": 3
   },
   "file_extension": ".py",
   "mimetype": "text/x-python",
   "name": "python",
   "nbconvert_exporter": "python",
   "pygments_lexer": "ipython3",
   "version": "3.12.0"
  }
 },
 "nbformat": 4,
 "nbformat_minor": 2
}
